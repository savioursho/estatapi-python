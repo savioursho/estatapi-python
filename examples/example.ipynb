{
 "cells": [
  {
   "cell_type": "code",
   "execution_count": 1,
   "metadata": {},
   "outputs": [],
   "source": [
    "%load_ext autoreload\n",
    "%autoreload 2"
   ]
  },
  {
   "cell_type": "code",
   "execution_count": 2,
   "metadata": {},
   "outputs": [],
   "source": [
    "import estatapi\n",
    "from dotenv import dotenv_values\n",
    "from pprint import pprint"
   ]
  },
  {
   "cell_type": "markdown",
   "metadata": {},
   "source": [
    "## set_appid"
   ]
  },
  {
   "cell_type": "code",
   "execution_count": 3,
   "metadata": {},
   "outputs": [],
   "source": [
    "APPID = dotenv_values()[\"ESTAT_APPID\"]\n",
    "estatapi.set_appid(APPID)"
   ]
  },
  {
   "cell_type": "markdown",
   "metadata": {},
   "source": [
    "## get_stats_list"
   ]
  },
  {
   "cell_type": "code",
   "execution_count": 4,
   "metadata": {},
   "outputs": [
    {
     "name": "stdout",
     "output_type": "stream",
     "text": [
      "{'GET_STATS_LIST': {'DATALIST_INF': {'NUMBER': 220940,\n",
      "                                     'RESULT_INF': {...},\n",
      "                                     'TABLE_INF': {...}},\n",
      "                    'PARAMETER': {'DATA_FORMAT': 'J',\n",
      "                                  'EXPLANATION_GET_FLG': 'Y',\n",
      "                                  'LANG': 'J',\n",
      "                                  'LIMIT': 1,\n",
      "                                  'SEARCH_KIND': 1},\n",
      "                    'RESULT': {'DATE': '2024-04-13T15:24:08.934+09:00',\n",
      "                               'ERROR_MSG': '正常に終了しました。',\n",
      "                               'STATUS': 0}}}\n"
     ]
    }
   ],
   "source": [
    "stats_list_output = estatapi.get_stats_list(limit=1)\n",
    "pprint(stats_list_output.to_json(), depth=3)"
   ]
  },
  {
   "cell_type": "code",
   "execution_count": 7,
   "metadata": {},
   "outputs": [
    {
     "name": "stdout",
     "output_type": "stream",
     "text": [
      "{'NUMBER': 220940,\n",
      " 'RESULT_INF': {'FROM_NUMBER': 1, 'NEXT_KEY': 2, 'TO_NUMBER': 1},\n",
      " 'TABLE_INF': {'@id': '0003288322',\n",
      "               'COLLECT_AREA': '該当なし',\n",
      "               'CYCLE': '年次',\n",
      "               'DESCRIPTION': '',\n",
      "               'GOV_ORG': {'$': '人事院', '@code': '00020'},\n",
      "               'MAIN_CATEGORY': {'$': '労働・賃金', '@code': '03'},\n",
      "               'OPEN_DATE': '2019-03-20',\n",
      "               'OVERALL_TOTAL_NUMBER': 25,\n",
      "               'SMALL_AREA': 0,\n",
      "               'STATISTICS_NAME': '民間企業の勤務条件制度等調査（民間企業退職給付調査） 統計表 １\\u3000'\n",
      "                                  '定年制と定年退職者の継続雇用の状況',\n",
      "               'STATISTICS_NAME_SPEC': {'TABULATION_CATEGORY': '民間企業の勤務条件制度等調査（民間企業退職給付調査）',\n",
      "                                        'TABULATION_SUB_CATEGORY1': '統計表',\n",
      "                                        'TABULATION_SUB_CATEGORY2': '１\\u3000'\n",
      "                                                                    '定年制と定年退職者の継続雇用の状況'},\n",
      "               'STAT_NAME': {'$': '民間企業の勤務条件制度等調査', '@code': '00020111'},\n",
      "               'SUB_CATEGORY': {'$': '賃金・労働条件', '@code': '02'},\n",
      "               'SURVEY_DATE': '201601-201612',\n",
      "               'TITLE': {'$': '（推計値） 定年制の状況', '@no': '1'},\n",
      "               'TITLE_SPEC': {'TABLE_CATEGORY': '（推計値）',\n",
      "                              'TABLE_EXPLANATION': '１\\u3000'\n",
      "                                                   '事務・技術関係職種の従業員がいる企業41,314社について集計した。２\\u3000'\n",
      "                                                   '「定年年齢」内の数値は定年制がある企業を100とした場合の割合を示す。',\n",
      "                              'TABLE_NAME': '定年制の状況'},\n",
      "               'UPDATED_DATE': '2019-03-30'}}\n"
     ]
    }
   ],
   "source": [
    "pprint(\n",
    "    stats_list_output.get_data(),\n",
    "    depth=3,\n",
    ")"
   ]
  },
  {
   "cell_type": "code",
   "execution_count": 8,
   "metadata": {},
   "outputs": [
    {
     "data": {
      "text/plain": [
       "'0003288322'"
      ]
     },
     "execution_count": 8,
     "metadata": {},
     "output_type": "execute_result"
    }
   ],
   "source": [
    "statsDataId = stats_list_output.to_json()[\"GET_STATS_LIST\"][\"DATALIST_INF\"][\n",
    "    \"TABLE_INF\"\n",
    "][\"@id\"]\n",
    "statsDataId"
   ]
  },
  {
   "cell_type": "markdown",
   "metadata": {},
   "source": [
    "## get_meta_info"
   ]
  },
  {
   "cell_type": "code",
   "execution_count": 9,
   "metadata": {},
   "outputs": [
    {
     "name": "stdout",
     "output_type": "stream",
     "text": [
      "{'GET_META_INFO': {'METADATA_INF': {'CLASS_INF': {...}, 'TABLE_INF': {...}},\n",
      "                   'PARAMETER': {'DATA_FORMAT': 'J',\n",
      "                                 'EXPLANATION_GET_FLG': 'Y',\n",
      "                                 'LANG': 'J',\n",
      "                                 'STATS_DATA_ID': '0003288322'},\n",
      "                   'RESULT': {'DATE': '2024-04-13T15:25:51.460+09:00',\n",
      "                              'ERROR_MSG': '正常に終了しました。',\n",
      "                              'STATUS': 0}}}\n"
     ]
    }
   ],
   "source": [
    "meta_info_output = estatapi.get_meta_info(statsDataId=statsDataId)\n",
    "pprint(meta_info_output.to_json(), depth=3)"
   ]
  },
  {
   "cell_type": "code",
   "execution_count": 10,
   "metadata": {},
   "outputs": [
    {
     "name": "stdout",
     "output_type": "stream",
     "text": [
      "{'CLASS_INF': {'CLASS_OBJ': [{...}, {...}, {...}, {...}]},\n",
      " 'TABLE_INF': {'@id': '0003288322',\n",
      "               'COLLECT_AREA': '該当なし',\n",
      "               'CYCLE': '年次',\n",
      "               'DESCRIPTION': '',\n",
      "               'GOV_ORG': {'$': '人事院', '@code': '00020'},\n",
      "               'MAIN_CATEGORY': {'$': '労働・賃金', '@code': '03'},\n",
      "               'OPEN_DATE': '2019-03-20',\n",
      "               'OVERALL_TOTAL_NUMBER': 25,\n",
      "               'SMALL_AREA': 0,\n",
      "               'STATISTICS_NAME': '民間企業の勤務条件制度等調査（民間企業退職給付調査） 統計表 １\\u3000'\n",
      "                                  '定年制と定年退職者の継続雇用の状況',\n",
      "               'STATISTICS_NAME_SPEC': {'TABULATION_CATEGORY': '民間企業の勤務条件制度等調査（民間企業退職給付調査）',\n",
      "                                        'TABULATION_SUB_CATEGORY1': '統計表',\n",
      "                                        'TABULATION_SUB_CATEGORY2': '１\\u3000'\n",
      "                                                                    '定年制と定年退職者の継続雇用の状況'},\n",
      "               'STAT_NAME': {'$': '民間企業の勤務条件制度等調査', '@code': '00020111'},\n",
      "               'SUB_CATEGORY': {'$': '賃金・労働条件', '@code': '02'},\n",
      "               'SURVEY_DATE': '201601-201612',\n",
      "               'TITLE': {'$': '（推計値） 定年制の状況', '@no': '1'},\n",
      "               'TITLE_SPEC': {'TABLE_CATEGORY': '（推計値）',\n",
      "                              'TABLE_EXPLANATION': '１\\u3000'\n",
      "                                                   '事務・技術関係職種の従業員がいる企業41,314社について集計した。２\\u3000'\n",
      "                                                   '「定年年齢」内の数値は定年制がある企業を100とした場合の割合を示す。',\n",
      "                              'TABLE_NAME': '定年制の状況'},\n",
      "               'UPDATED_DATE': '2019-03-30'}}\n"
     ]
    }
   ],
   "source": [
    "pprint(meta_info_output.get_data(), depth=3)"
   ]
  },
  {
   "cell_type": "markdown",
   "metadata": {},
   "source": [
    "## get_stats_data"
   ]
  },
  {
   "cell_type": "code",
   "execution_count": 11,
   "metadata": {},
   "outputs": [
    {
     "name": "stdout",
     "output_type": "stream",
     "text": [
      "{'GET_STATS_DATA': {'PARAMETER': {'ANNOTATION_GET_FLG': 'Y',\n",
      "                                  'CNT_GET_FLG': 'N',\n",
      "                                  'DATA_FORMAT': 'J',\n",
      "                                  'EXPLANATION_GET_FLG': 'Y',\n",
      "                                  'LANG': 'J',\n",
      "                                  'METAGET_FLG': 'Y',\n",
      "                                  'START_POSITION': 1,\n",
      "                                  'STATS_DATA_ID': '0003288322'},\n",
      "                    'RESULT': {'DATE': '2024-04-13T15:26:29.417+09:00',\n",
      "                               'ERROR_MSG': '正常に終了しました。',\n",
      "                               'STATUS': 0},\n",
      "                    'STATISTICAL_DATA': {'CLASS_INF': {...},\n",
      "                                         'DATA_INF': {...},\n",
      "                                         'RESULT_INF': {...},\n",
      "                                         'TABLE_INF': {...}}}}\n"
     ]
    }
   ],
   "source": [
    "stats_data_output = estatapi.get_stats_data(statsDataId=statsDataId)\n",
    "pprint(stats_data_output.to_json(), depth=3)"
   ]
  },
  {
   "cell_type": "code",
   "execution_count": 12,
   "metadata": {},
   "outputs": [
    {
     "name": "stdout",
     "output_type": "stream",
     "text": [
      "{'CLASS_INF': {'CLASS_OBJ': [{...}, {...}, {...}, {...}]},\n",
      " 'DATA_INF': {'NOTE': [{...}, {...}],\n",
      "              'VALUE': [{...},\n",
      "                        {...},\n",
      "                        {...},\n",
      "                        {...},\n",
      "                        {...},\n",
      "                        {...},\n",
      "                        {...},\n",
      "                        {...},\n",
      "                        {...},\n",
      "                        {...},\n",
      "                        {...},\n",
      "                        {...},\n",
      "                        {...},\n",
      "                        {...},\n",
      "                        {...},\n",
      "                        {...},\n",
      "                        {...},\n",
      "                        {...},\n",
      "                        {...},\n",
      "                        {...},\n",
      "                        {...},\n",
      "                        {...},\n",
      "                        {...},\n",
      "                        {...},\n",
      "                        {...}]},\n",
      " 'RESULT_INF': {'FROM_NUMBER': 1, 'TOTAL_NUMBER': 25, 'TO_NUMBER': 25},\n",
      " 'TABLE_INF': {'@id': '0003288322',\n",
      "               'COLLECT_AREA': '該当なし',\n",
      "               'CYCLE': '年次',\n",
      "               'DESCRIPTION': '',\n",
      "               'GOV_ORG': {'$': '人事院', '@code': '00020'},\n",
      "               'MAIN_CATEGORY': {'$': '労働・賃金', '@code': '03'},\n",
      "               'OPEN_DATE': '2019-03-20',\n",
      "               'OVERALL_TOTAL_NUMBER': 25,\n",
      "               'SMALL_AREA': 0,\n",
      "               'STATISTICS_NAME': '民間企業の勤務条件制度等調査（民間企業退職給付調査） 統計表 １\\u3000'\n",
      "                                  '定年制と定年退職者の継続雇用の状況',\n",
      "               'STATISTICS_NAME_SPEC': {'TABULATION_CATEGORY': '民間企業の勤務条件制度等調査（民間企業退職給付調査）',\n",
      "                                        'TABULATION_SUB_CATEGORY1': '統計表',\n",
      "                                        'TABULATION_SUB_CATEGORY2': '１\\u3000'\n",
      "                                                                    '定年制と定年退職者の継続雇用の状況'},\n",
      "               'STAT_NAME': {'$': '民間企業の勤務条件制度等調査', '@code': '00020111'},\n",
      "               'SUB_CATEGORY': {'$': '賃金・労働条件', '@code': '02'},\n",
      "               'SURVEY_DATE': '201601-201612',\n",
      "               'TITLE': {'$': '（推計値） 定年制の状況', '@no': '1'},\n",
      "               'TITLE_SPEC': {'TABLE_CATEGORY': '（推計値）',\n",
      "                              'TABLE_EXPLANATION': '１\\u3000'\n",
      "                                                   '事務・技術関係職種の従業員がいる企業41,314社について集計した。２\\u3000'\n",
      "                                                   '「定年年齢」内の数値は定年制がある企業を100とした場合の割合を示す。',\n",
      "                              'TABLE_NAME': '定年制の状況'},\n",
      "               'UPDATED_DATE': '2019-03-30'}}\n"
     ]
    }
   ],
   "source": [
    "pprint(stats_data_output.get_data(), depth=3)"
   ]
  }
 ],
 "metadata": {
  "kernelspec": {
   "display_name": ".venv",
   "language": "python",
   "name": "python3"
  },
  "language_info": {
   "codemirror_mode": {
    "name": "ipython",
    "version": 3
   },
   "file_extension": ".py",
   "mimetype": "text/x-python",
   "name": "python",
   "nbconvert_exporter": "python",
   "pygments_lexer": "ipython3",
   "version": "3.11.8"
  }
 },
 "nbformat": 4,
 "nbformat_minor": 2
}
