{
 "cells": [
  {
   "cell_type": "markdown",
   "metadata": {},
   "source": [
    "# URL"
   ]
  },
  {
   "cell_type": "code",
   "execution_count": 1,
   "metadata": {},
   "outputs": [],
   "source": [
    "import dataclasses\n",
    "import os.path\n",
    "import urllib.parse\n",
    "from enum import StrEnum\n",
    "from typing import Literal"
   ]
  },
  {
   "cell_type": "code",
   "execution_count": 2,
   "metadata": {},
   "outputs": [],
   "source": [
    "class ApiType(StrEnum):\n",
    "    getStatsList = \"getStatsList\"\n",
    "    getMetaInfo = \"getMetaInfo\"\n",
    "    getStatsData = \"getStatsData\"\n",
    "    # postDataset = \"postDataset\"\n",
    "    refDataset = \"refDataset\"\n",
    "    getDataCatalog = \"getDataCatalog\"\n",
    "    getStatsDatas = \"getStatsDatas\"\n",
    "\n",
    "\n",
    "class ResponseDataType(StrEnum):\n",
    "    XML = \"xml\"\n",
    "    JSON = \"json\"\n",
    "    JSONP = \"jsonp\"\n",
    "    CSV = \"csv\""
   ]
  },
  {
   "cell_type": "code",
   "execution_count": 14,
   "metadata": {},
   "outputs": [],
   "source": [
    "@dataclasses.dataclass\n",
    "class Endpoint:\n",
    "    netloc = \"api.e-stat.go.jp\"\n",
    "\n",
    "    api_type: ApiType\n",
    "    response_data_type: ResponseDataType\n",
    "    scheme: str = \"https\"\n",
    "    version: str = \"3.0\"\n",
    "\n",
    "    def build(self) -> str:\n",
    "        path = self._build_path(\n",
    "            api_type=self.api_type, response_data_type=self.response_data_type\n",
    "        )\n",
    "        url_tuple = (self.scheme, self.netloc, path, \"\", \"\", \"\")\n",
    "        return urllib.parse.urlunparse(url_tuple)\n",
    "\n",
    "    def _build_path(\n",
    "        self,\n",
    "        api_type: ApiType,\n",
    "        response_data_type: ResponseDataType,\n",
    "        version: str = \"3.0\",\n",
    "    ):\n",
    "        api_type, response_data_type = self._validate_types(\n",
    "            api_type, response_data_type\n",
    "        )\n",
    "\n",
    "        path_list = [\"rest\", version, \"app\"]\n",
    "\n",
    "        # response data type\n",
    "        response_data_type_mapper = {\n",
    "            ResponseDataType.XML: \"\",\n",
    "            ResponseDataType.JSON: \"json\",\n",
    "            ResponseDataType.JSONP: \"jsonp\",\n",
    "            ResponseDataType.CSV: \"\",\n",
    "        }\n",
    "        path_list.append(response_data_type_mapper[response_data_type])\n",
    "\n",
    "        # api type\n",
    "        path_list.append(\n",
    "            api_type.replace(\"get\", \"getSimple\")\n",
    "            if response_data_type == ResponseDataType.CSV\n",
    "            else api_type\n",
    "        )\n",
    "\n",
    "        return os.path.join(*path_list)\n",
    "\n",
    "    def _validate_types(\n",
    "        self,\n",
    "        api_type: ApiType,\n",
    "        response_data_type: ResponseDataType,\n",
    "    ):\n",
    "        api_type = ApiType[api_type]\n",
    "        response_data_type = ResponseDataType[response_data_type.upper()]\n",
    "\n",
    "        allowed_response_data_type = {\n",
    "            ApiType.getStatsList: [\n",
    "                ResponseDataType.XML,\n",
    "                ResponseDataType.JSON,\n",
    "                ResponseDataType.JSONP,\n",
    "                ResponseDataType.CSV,\n",
    "            ],\n",
    "            ApiType.getMetaInfo: [\n",
    "                ResponseDataType.XML,\n",
    "                ResponseDataType.JSON,\n",
    "                ResponseDataType.JSONP,\n",
    "                ResponseDataType.CSV,\n",
    "            ],\n",
    "            ApiType.getStatsData: [\n",
    "                ResponseDataType.XML,\n",
    "                ResponseDataType.JSON,\n",
    "                ResponseDataType.JSONP,\n",
    "                ResponseDataType.CSV,\n",
    "            ],\n",
    "            ApiType.refDataset: [\n",
    "                ResponseDataType.XML,\n",
    "                ResponseDataType.JSON,\n",
    "                ResponseDataType.JSONP,\n",
    "            ],\n",
    "            ApiType.getDataCatalog: [\n",
    "                ResponseDataType.XML,\n",
    "                ResponseDataType.JSON,\n",
    "                ResponseDataType.JSONP,\n",
    "            ],\n",
    "            ApiType.getStatsDatas: [\n",
    "                ResponseDataType.XML,\n",
    "                ResponseDataType.JSON,\n",
    "                ResponseDataType.CSV,\n",
    "            ],\n",
    "        }\n",
    "\n",
    "        if response_data_type in allowed_response_data_type[api_type]:\n",
    "            return api_type, response_data_type\n",
    "        else:\n",
    "            raise ValueError(\"This combination of types is not allowed.\")"
   ]
  },
  {
   "cell_type": "code",
   "execution_count": 15,
   "metadata": {},
   "outputs": [
    {
     "data": {
      "text/plain": [
       "'https://api.e-stat.go.jp/rest/3.0/app/json/getStatsList'"
      ]
     },
     "execution_count": 15,
     "metadata": {},
     "output_type": "execute_result"
    }
   ],
   "source": [
    "endpoint = Endpoint(ApiType.getStatsList, ResponseDataType.JSON)\n",
    "endpoint.build()"
   ]
  },
  {
   "cell_type": "code",
   "execution_count": null,
   "metadata": {},
   "outputs": [],
   "source": []
  }
 ],
 "metadata": {
  "kernelspec": {
   "display_name": ".venv",
   "language": "python",
   "name": "python3"
  },
  "language_info": {
   "codemirror_mode": {
    "name": "ipython",
    "version": 3
   },
   "file_extension": ".py",
   "mimetype": "text/x-python",
   "name": "python",
   "nbconvert_exporter": "python",
   "pygments_lexer": "ipython3",
   "version": "3.11.8"
  }
 },
 "nbformat": 4,
 "nbformat_minor": 2
}
